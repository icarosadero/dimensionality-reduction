{
 "cells": [
  {
   "cell_type": "code",
   "execution_count": 1,
   "metadata": {
    "vscode": {
     "languageId": "python"
    }
   },
   "outputs": [
    {
     "name": "stdout",
     "output_type": "stream",
     "text": [
      "Requirement already satisfied: optuna in /opt/conda/lib/python3.11/site-packages (4.1.0)\n",
      "Requirement already satisfied: cebra==0.4.0 in /opt/conda/lib/python3.11/site-packages (0.4.0)\n",
      "Requirement already satisfied: matplotlib==3.9.2 in /opt/conda/lib/python3.11/site-packages (3.9.2)\n",
      "Requirement already satisfied: numpy in /opt/conda/lib/python3.11/site-packages (2.0.2)\n",
      "Requirement already satisfied: pandas in /opt/conda/lib/python3.11/site-packages (2.2.3)\n",
      "Requirement already satisfied: scipy in /opt/conda/lib/python3.11/site-packages (1.14.1)\n",
      "Requirement already satisfied: seaborn in /opt/conda/lib/python3.11/site-packages (0.13.2)\n",
      "Requirement already satisfied: umap_learn in /opt/conda/lib/python3.11/site-packages (0.5.7)\n",
      "Requirement already satisfied: pyspark in /opt/conda/lib/python3.11/site-packages (3.5.3)\n",
      "Requirement already satisfied: python-dotenv in /opt/conda/lib/python3.11/site-packages (1.0.1)\n",
      "Requirement already satisfied: tensorboardX in /opt/conda/lib/python3.11/site-packages (2.6.2.2)\n",
      "Requirement already satisfied: joblib in /opt/conda/lib/python3.11/site-packages (from cebra==0.4.0) (1.4.2)\n",
      "Requirement already satisfied: literate-dataclasses in /opt/conda/lib/python3.11/site-packages (from cebra==0.4.0) (0.0.6)\n",
      "Requirement already satisfied: scikit-learn in /opt/conda/lib/python3.11/site-packages (from cebra==0.4.0) (1.6.0)\n",
      "Requirement already satisfied: torch in /opt/conda/lib/python3.11/site-packages (from cebra==0.4.0) (2.5.1)\n",
      "Requirement already satisfied: tqdm in /opt/conda/lib/python3.11/site-packages (from cebra==0.4.0) (4.66.1)\n",
      "Requirement already satisfied: requests in /opt/conda/lib/python3.11/site-packages (from cebra==0.4.0) (2.31.0)\n",
      "Requirement already satisfied: contourpy>=1.0.1 in /opt/conda/lib/python3.11/site-packages (from matplotlib==3.9.2) (1.3.1)\n",
      "Requirement already satisfied: cycler>=0.10 in /opt/conda/lib/python3.11/site-packages (from matplotlib==3.9.2) (0.12.1)\n",
      "Requirement already satisfied: fonttools>=4.22.0 in /opt/conda/lib/python3.11/site-packages (from matplotlib==3.9.2) (4.55.3)\n",
      "Requirement already satisfied: kiwisolver>=1.3.1 in /opt/conda/lib/python3.11/site-packages (from matplotlib==3.9.2) (1.4.7)\n",
      "Requirement already satisfied: packaging>=20.0 in /opt/conda/lib/python3.11/site-packages (from matplotlib==3.9.2) (23.2)\n",
      "Requirement already satisfied: pillow>=8 in /opt/conda/lib/python3.11/site-packages (from matplotlib==3.9.2) (11.0.0)\n",
      "Requirement already satisfied: pyparsing>=2.3.1 in /opt/conda/lib/python3.11/site-packages (from matplotlib==3.9.2) (3.2.0)\n",
      "Requirement already satisfied: python-dateutil>=2.7 in /opt/conda/lib/python3.11/site-packages (from matplotlib==3.9.2) (2.8.2)\n",
      "Requirement already satisfied: alembic>=1.5.0 in /opt/conda/lib/python3.11/site-packages (from optuna) (1.12.0)\n",
      "Requirement already satisfied: colorlog in /opt/conda/lib/python3.11/site-packages (from optuna) (6.9.0)\n",
      "Requirement already satisfied: sqlalchemy>=1.4.2 in /opt/conda/lib/python3.11/site-packages (from optuna) (2.0.22)\n",
      "Requirement already satisfied: PyYAML in /opt/conda/lib/python3.11/site-packages (from optuna) (6.0.1)\n",
      "Requirement already satisfied: pytz>=2020.1 in /opt/conda/lib/python3.11/site-packages (from pandas) (2023.3.post1)\n",
      "Requirement already satisfied: tzdata>=2022.7 in /opt/conda/lib/python3.11/site-packages (from pandas) (2024.2)\n",
      "Requirement already satisfied: numba>=0.51.2 in /opt/conda/lib/python3.11/site-packages (from umap_learn) (0.60.0)\n",
      "Requirement already satisfied: pynndescent>=0.5 in /opt/conda/lib/python3.11/site-packages (from umap_learn) (0.5.13)\n",
      "Requirement already satisfied: py4j==0.10.9.7 in /opt/conda/lib/python3.11/site-packages (from pyspark) (0.10.9.7)\n",
      "Requirement already satisfied: protobuf>=3.20 in /opt/conda/lib/python3.11/site-packages (from tensorboardX) (5.29.1)\n",
      "Requirement already satisfied: Mako in /opt/conda/lib/python3.11/site-packages (from alembic>=1.5.0->optuna) (1.2.4)\n",
      "Requirement already satisfied: typing-extensions>=4 in /opt/conda/lib/python3.11/site-packages (from alembic>=1.5.0->optuna) (4.8.0)\n",
      "Requirement already satisfied: llvmlite<0.44,>=0.43.0dev0 in /opt/conda/lib/python3.11/site-packages (from numba>=0.51.2->umap_learn) (0.43.0)\n",
      "Requirement already satisfied: six>=1.5 in /opt/conda/lib/python3.11/site-packages (from python-dateutil>=2.7->matplotlib==3.9.2) (1.16.0)\n",
      "Requirement already satisfied: threadpoolctl>=3.1.0 in /opt/conda/lib/python3.11/site-packages (from scikit-learn->cebra==0.4.0) (3.5.0)\n",
      "Requirement already satisfied: greenlet!=0.4.17 in /opt/conda/lib/python3.11/site-packages (from sqlalchemy>=1.4.2->optuna) (3.0.0)\n",
      "Requirement already satisfied: charset-normalizer<4,>=2 in /opt/conda/lib/python3.11/site-packages (from requests->cebra==0.4.0) (3.3.0)\n",
      "Requirement already satisfied: idna<4,>=2.5 in /opt/conda/lib/python3.11/site-packages (from requests->cebra==0.4.0) (3.4)\n",
      "Requirement already satisfied: urllib3<3,>=1.21.1 in /opt/conda/lib/python3.11/site-packages (from requests->cebra==0.4.0) (2.0.7)\n",
      "Requirement already satisfied: certifi>=2017.4.17 in /opt/conda/lib/python3.11/site-packages (from requests->cebra==0.4.0) (2023.7.22)\n",
      "Requirement already satisfied: filelock in /opt/conda/lib/python3.11/site-packages (from torch->cebra==0.4.0) (3.16.1)\n",
      "Requirement already satisfied: networkx in /opt/conda/lib/python3.11/site-packages (from torch->cebra==0.4.0) (3.4.2)\n",
      "Requirement already satisfied: jinja2 in /opt/conda/lib/python3.11/site-packages (from torch->cebra==0.4.0) (3.1.2)\n",
      "Requirement already satisfied: fsspec in /opt/conda/lib/python3.11/site-packages (from torch->cebra==0.4.0) (2024.10.0)\n",
      "Requirement already satisfied: nvidia-cuda-nvrtc-cu12==12.4.127 in /opt/conda/lib/python3.11/site-packages (from torch->cebra==0.4.0) (12.4.127)\n",
      "Requirement already satisfied: nvidia-cuda-runtime-cu12==12.4.127 in /opt/conda/lib/python3.11/site-packages (from torch->cebra==0.4.0) (12.4.127)\n",
      "Requirement already satisfied: nvidia-cuda-cupti-cu12==12.4.127 in /opt/conda/lib/python3.11/site-packages (from torch->cebra==0.4.0) (12.4.127)\n",
      "Requirement already satisfied: nvidia-cudnn-cu12==9.1.0.70 in /opt/conda/lib/python3.11/site-packages (from torch->cebra==0.4.0) (9.1.0.70)\n",
      "Requirement already satisfied: nvidia-cublas-cu12==12.4.5.8 in /opt/conda/lib/python3.11/site-packages (from torch->cebra==0.4.0) (12.4.5.8)\n",
      "Requirement already satisfied: nvidia-cufft-cu12==11.2.1.3 in /opt/conda/lib/python3.11/site-packages (from torch->cebra==0.4.0) (11.2.1.3)\n",
      "Requirement already satisfied: nvidia-curand-cu12==10.3.5.147 in /opt/conda/lib/python3.11/site-packages (from torch->cebra==0.4.0) (10.3.5.147)\n",
      "Requirement already satisfied: nvidia-cusolver-cu12==11.6.1.9 in /opt/conda/lib/python3.11/site-packages (from torch->cebra==0.4.0) (11.6.1.9)\n",
      "Requirement already satisfied: nvidia-cusparse-cu12==12.3.1.170 in /opt/conda/lib/python3.11/site-packages (from torch->cebra==0.4.0) (12.3.1.170)\n",
      "Requirement already satisfied: nvidia-nccl-cu12==2.21.5 in /opt/conda/lib/python3.11/site-packages (from torch->cebra==0.4.0) (2.21.5)\n",
      "Requirement already satisfied: nvidia-nvtx-cu12==12.4.127 in /opt/conda/lib/python3.11/site-packages (from torch->cebra==0.4.0) (12.4.127)\n",
      "Requirement already satisfied: nvidia-nvjitlink-cu12==12.4.127 in /opt/conda/lib/python3.11/site-packages (from torch->cebra==0.4.0) (12.4.127)\n",
      "Requirement already satisfied: triton==3.1.0 in /opt/conda/lib/python3.11/site-packages (from torch->cebra==0.4.0) (3.1.0)\n",
      "Requirement already satisfied: sympy==1.13.1 in /opt/conda/lib/python3.11/site-packages (from torch->cebra==0.4.0) (1.13.1)\n",
      "Requirement already satisfied: mpmath<1.4,>=1.1.0 in /opt/conda/lib/python3.11/site-packages (from sympy==1.13.1->torch->cebra==0.4.0) (1.3.0)\n",
      "Requirement already satisfied: MarkupSafe>=2.0 in /opt/conda/lib/python3.11/site-packages (from jinja2->torch->cebra==0.4.0) (2.1.3)\n",
      "Note: you may need to restart the kernel to use updated packages.\n"
     ]
    }
   ],
   "source": [
    "%pip install optuna cebra==0.4.0 matplotlib==3.9.2 numpy pandas scipy seaborn umap_learn pyspark python-dotenv tensorboardX"
   ]
  },
  {
   "cell_type": "code",
   "execution_count": 2,
   "metadata": {
    "vscode": {
     "languageId": "python"
    }
   },
   "outputs": [],
   "source": [
    "import sys\n",
    "sys.path.append(\"/main/external/dimensionality-reduction\")"
   ]
  },
  {
   "cell_type": "code",
   "execution_count": null,
   "metadata": {
    "vscode": {
     "languageId": "python"
    }
   },
   "outputs": [
    {
     "data": {
      "text/plain": [
       "device(type='cuda')"
      ]
     },
     "execution_count": 3,
     "metadata": {},
     "output_type": "execute_result"
    }
   ],
   "source": [
    "from cebra import CEBRA\n",
    "import torch\n",
    "import torch.utils\n",
    "import numpy as np\n",
    "from tensorboardX import SummaryWriter\n",
    "from torch.utils.data import DataLoader, Dataset\n",
    "from utils.overrides import transform\n",
    "from utils.utils import spark_rdd_to_tensor, k_folds\n",
    "from tqdm import tqdm\n",
    "import dotenv\n",
    "import os\n",
    "dotenv.load_dotenv()\n",
    "dotenv.load_dotenv(\"/main/external/dimensionality-reduction/.env\")\n",
    "device = torch.device(\"cuda\" if torch.cuda.is_available() else \"cpu\")\n",
    "writer = SummaryWriter(\"/main/external/tensorboard_runs\")\n",
    "device"
   ]
  },
  {
   "cell_type": "code",
   "execution_count": null,
   "metadata": {
    "vscode": {
     "languageId": "python"
    }
   },
   "outputs": [],
   "source": [
    "def warn(*args, **kwargs):\n",
    "    pass\n",
    "import warnings\n",
    "warnings.warn = warn"
   ]
  },
  {
   "cell_type": "markdown",
   "metadata": {},
   "source": [
    "# Data Load"
   ]
  },
  {
   "cell_type": "code",
   "execution_count": 4,
   "metadata": {
    "vscode": {
     "languageId": "python"
    }
   },
   "outputs": [
    {
     "name": "stdout",
     "output_type": "stream",
     "text": [
      "[('spark.driver.port', '38345'), ('spark.driver.memory', '120g'), ('spark.driver.extraJavaOptions', '-Djava.net.preferIPv6Addresses=false -XX:+IgnoreUnrecognizedVMOptions --add-opens=java.base/java.lang=ALL-UNNAMED --add-opens=java.base/java.lang.invoke=ALL-UNNAMED --add-opens=java.base/java.lang.reflect=ALL-UNNAMED --add-opens=java.base/java.io=ALL-UNNAMED --add-opens=java.base/java.net=ALL-UNNAMED --add-opens=java.base/java.nio=ALL-UNNAMED --add-opens=java.base/java.util=ALL-UNNAMED --add-opens=java.base/java.util.concurrent=ALL-UNNAMED --add-opens=java.base/java.util.concurrent.atomic=ALL-UNNAMED --add-opens=java.base/jdk.internal.ref=ALL-UNNAMED --add-opens=java.base/sun.nio.ch=ALL-UNNAMED --add-opens=java.base/sun.nio.cs=ALL-UNNAMED --add-opens=java.base/sun.security.action=ALL-UNNAMED --add-opens=java.base/sun.util.calendar=ALL-UNNAMED --add-opens=java.security.jgss/sun.security.krb5=ALL-UNNAMED -Djdk.reflect.useDirectMethodHandle=false'), ('spark.app.name', 'Foo'), ('spark.executor.memory', '120g'), ('spark.executor.id', 'driver'), ('spark.memory.offHeap.enabled', 'true'), ('spark.driver.host', '0034c8293b66'), ('spark.app.startTime', '1734530969403'), ('spark.sql.warehouse.dir', 'file:/home/jovyan/spark-warehouse'), ('spark.app.id', 'local-1734530969846'), ('spark.rdd.compress', 'True'), ('spark.executor.extraJavaOptions', '-Djava.net.preferIPv6Addresses=false -XX:+IgnoreUnrecognizedVMOptions --add-opens=java.base/java.lang=ALL-UNNAMED --add-opens=java.base/java.lang.invoke=ALL-UNNAMED --add-opens=java.base/java.lang.reflect=ALL-UNNAMED --add-opens=java.base/java.io=ALL-UNNAMED --add-opens=java.base/java.net=ALL-UNNAMED --add-opens=java.base/java.nio=ALL-UNNAMED --add-opens=java.base/java.util=ALL-UNNAMED --add-opens=java.base/java.util.concurrent=ALL-UNNAMED --add-opens=java.base/java.util.concurrent.atomic=ALL-UNNAMED --add-opens=java.base/jdk.internal.ref=ALL-UNNAMED --add-opens=java.base/sun.nio.ch=ALL-UNNAMED --add-opens=java.base/sun.nio.cs=ALL-UNNAMED --add-opens=java.base/sun.security.action=ALL-UNNAMED --add-opens=java.base/sun.util.calendar=ALL-UNNAMED --add-opens=java.security.jgss/sun.security.krb5=ALL-UNNAMED -Djdk.reflect.useDirectMethodHandle=false'), ('spark.serializer.objectStreamReset', '100'), ('spark.master', 'local[*]'), ('spark.submit.pyFiles', ''), ('spark.submit.deployMode', 'client'), ('spark.app.submitTime', '1734530969308'), ('spark.ui.showConsoleProgress', 'true'), ('spark.memory.offHeap.size', '16g')]\n"
     ]
    }
   ],
   "source": [
    "from pyspark.sql import SparkSession\n",
    "import pyspark.sql.functions as F\n",
    "\n",
    "MAX_MEMORY = \"120g\"\n",
    "\n",
    "spark = SparkSession \\\n",
    "    .builder \\\n",
    "    .appName(\"UranusCluster\") \\\n",
    "    .appName(\"Foo\") \\\n",
    "    .config(\"spark.executor.memory\", MAX_MEMORY) \\\n",
    "    .config(\"spark.driver.memory\", MAX_MEMORY) \\\n",
    "    .config(\"spark.memory.offHeap.enabled\",True)\\\n",
    "    .config(\"spark.memory.offHeap.size\",\"16g\")   \\\n",
    "    .getOrCreate()\n",
    "\n",
    "# Verify the SparkContext\n",
    "print(spark.sparkContext.getConf().getAll())"
   ]
  },
  {
   "cell_type": "code",
   "execution_count": 5,
   "metadata": {
    "vscode": {
     "languageId": "python"
    }
   },
   "outputs": [],
   "source": [
    "#Taking just one because this still doesn`t support multi session data\n",
    "DATA_PATH = \"ID18150/Day6/DataFrame_Imaging_spiking_18150_day6\""
   ]
  },
  {
   "cell_type": "code",
   "execution_count": 6,
   "metadata": {
    "vscode": {
     "languageId": "python"
    }
   },
   "outputs": [
    {
     "name": "stderr",
     "output_type": "stream",
     "text": [
      "[Stage 54:=====================================================>  (19 + 1) / 20]\r"
     ]
    },
    {
     "name": "stdout",
     "output_type": "stream",
     "text": [
      "+------------+--------------------+--------------------+--------------------+\n",
      "|       index|         neural_data| positional_encoding|           file_name|\n",
      "+------------+--------------------+--------------------+--------------------+\n",
      "|317827579904|[0.00353814595291...|0.014736815295795708|ID18150/Day6/Data...|\n",
      "|317827707084|[7.32697662897408...|0.002792727523517...|ID18150/Day6/Data...|\n",
      "|317827579905|[0.00376488942492...|0.014736815295795708|ID18150/Day6/Data...|\n",
      "|317827707085|[5.27972821146249...|0.002792727523517...|ID18150/Day6/Data...|\n",
      "|317827579906|[0.00368517413153...| 0.01473313965622418|ID18150/Day6/Data...|\n",
      "+------------+--------------------+--------------------+--------------------+\n",
      "only showing top 5 rows\n",
      "\n"
     ]
    },
    {
     "name": "stderr",
     "output_type": "stream",
     "text": [
      "                                                                                \r"
     ]
    }
   ],
   "source": [
    "df = spark.read.format(\"parquet\").load(\"/main/external/data/transformed\")\\\n",
    "    .select([\"index\",\"neural_data\", \"positional_encoding\", \"file_name\"])\\\n",
    "    .where(F.col(\"file_name\") == DATA_PATH)\n",
    "df.show(5)"
   ]
  },
  {
   "cell_type": "code",
   "execution_count": 8,
   "metadata": {
    "vscode": {
     "languageId": "python"
    }
   },
   "outputs": [],
   "source": [
    "def split(X, p):\n",
    "    d = len(X) // p\n",
    "    X_reduced = X[:(d * p)]\n",
    "    partitions = np.split(np.array(X_reduced), p)\n",
    "    partitions = [a.tolist() for a in partitions]\n",
    "    if len(X[d*p:]) != 0:\n",
    "        partitions += [X[d*p:]]\n",
    "    return partitions"
   ]
  },
  {
   "cell_type": "code",
   "execution_count": 9,
   "metadata": {
    "vscode": {
     "languageId": "python"
    }
   },
   "outputs": [],
   "source": [
    "delta = 5000\n",
    "def get_x_ticks(L:int):\n",
    "    x_ticks = np.arange(0,L,delta)\n",
    "    x_tick_labels = [f\"{t[i]/100:.2f}\" for i in x_ticks]\n",
    "    return x_ticks, x_tick_labels"
   ]
  },
  {
   "cell_type": "markdown",
   "metadata": {},
   "source": [
    "# CEBRA Encoder"
   ]
  },
  {
   "cell_type": "markdown",
   "metadata": {},
   "source": [
    "# Models"
   ]
  },
  {
   "cell_type": "code",
   "execution_count": 10,
   "metadata": {
    "vscode": {
     "languageId": "python"
    }
   },
   "outputs": [],
   "source": [
    "import logging\n",
    "logger = logging.getLogger(__name__)\n",
    "logger.setLevel(logging.INFO)"
   ]
  },
  {
   "cell_type": "code",
   "execution_count": 11,
   "metadata": {
    "vscode": {
     "languageId": "python"
    }
   },
   "outputs": [],
   "source": [
    "number_of_partitions = 32\n",
    "batch_size = 128 #Used for both embdding and decoder\n",
    "n_splits = 16\n",
    "latent_dimension = 8\n",
    "scores = []"
   ]
  },
  {
   "cell_type": "code",
   "execution_count": 12,
   "metadata": {
    "vscode": {
     "languageId": "python"
    }
   },
   "outputs": [],
   "source": [
    "criterion = torch.nn.MSELoss()\n",
    "\n",
    "class Dataset(Dataset):\n",
    "    def __init__(self, X, y):\n",
    "        self.X = X\n",
    "        self.y = y\n",
    "\n",
    "    def __len__(self):\n",
    "        return len(self.X)\n",
    "\n",
    "    def __getitem__(self, idx):\n",
    "        return self.X[idx], self.y[idx]"
   ]
  },
  {
   "cell_type": "code",
   "execution_count": null,
   "metadata": {
    "vscode": {
     "languageId": "python"
    }
   },
   "outputs": [],
   "source": [
    "indices = df.select('index').rdd.flatMap(lambda x: x).collect()"
   ]
  },
  {
   "cell_type": "code",
   "execution_count": null,
   "metadata": {
    "vscode": {
     "languageId": "python"
    }
   },
   "outputs": [],
   "source": [
    "if not os.path.exists('/main/external/models'):\n",
    "    os.makedirs('/main/external/models')"
   ]
  },
  {
   "cell_type": "code",
   "execution_count": null,
   "metadata": {
    "vscode": {
     "languageId": "python"
    }
   },
   "outputs": [
    {
     "name": "stderr",
     "output_type": "stream",
     "text": [
      "INFO:__main__:Started with len(train_indices)=98832 and len(test_indices)=32945\n",
      "  1%|          | 1025/98832 [2:39:20<253:25:15,  9.33s/it]                      \n",
      "INFO:__main__:Started with len(train_indices)=98833 and len(test_indices)=32944\n",
      "  1%|          | 1025/98833 [2:39:51<254:14:21,  9.36s/it]                      \n",
      "INFO:__main__:Started with len(train_indices)=98833 and len(test_indices)=32944\n",
      "  1%|          | 1025/98833 [2:40:00<254:28:42,  9.37s/it]                      \n",
      "INFO:__main__:Started with len(train_indices)=98833 and len(test_indices)=32944\n",
      "  1%|          | 1025/98833 [2:39:11<253:11:01,  9.32s/it]                      \n"
     ]
    }
   ],
   "source": [
    "counter = 0\n",
    "for it, (train_indices, test_indices) in enumerate(k_folds(n_splits, indices)):\n",
    "    logger.info(f\"Started with {len(train_indices)=} and {len(test_indices)=}\")\n",
    "    decoder = torch.nn.Sequential(\n",
    "        torch.nn.Linear(latent_dimension, 3),\n",
    "        torch.nn.GELU(),\n",
    "        torch.nn.Linear(3,3),\n",
    "        torch.nn.GELU(),\n",
    "        torch.nn.Linear(3,1),\n",
    "        torch.nn.Tanh()\n",
    "    )\n",
    "    decoder_optimizer = torch.optim.Adam(decoder.parameters(), lr=3e-4)\n",
    "    multi_cebra_model = CEBRA(\n",
    "        model_architecture='offset1-model',\n",
    "        batch_size=batch_size,\n",
    "        learning_rate=3e-4,\n",
    "        temperature_mode='auto',\n",
    "        output_dimension=latent_dimension,\n",
    "        max_iterations=1000,\n",
    "        min_temperature=0.001,\n",
    "        distance='cosine',\n",
    "        conditional='time_delta',\n",
    "        device='cuda_if_available',\n",
    "        verbose=False,\n",
    "        time_offsets=10)\n",
    "    train_splits, test_splits = split(train_indices, number_of_partitions), split(test_indices, number_of_partitions)\n",
    "    for train_partition_indices, test_partition_indices in tqdm(zip(train_splits,test_splits), total = number_of_partitions):\n",
    "        logger.debug(\"Starting new iteration\")\n",
    "        counter += 1\n",
    "        \n",
    "        logger.debug(\"Filtering dataframe\")\n",
    "        df_train_index = spark.createDataFrame(train_partition_indices[:], [\"index\"])\n",
    "        df_test_index  = spark.createDataFrame(test_partition_indices[:], [\"index\"])\n",
    "        df_train = df_train_index.join(df, how = \"left\", on = \"index\")\n",
    "        df_test  = df_test_index.join(df, how = \"left\", on = \"index\")\n",
    "        \n",
    "        logger.debug(\"Grouping data\")\n",
    "        groups_train = [x[0] for x in df_train.select(\"file_name\").distinct().collect()]\n",
    "        groups_list_train = [df_train.filter(F.col(\"file_name\")==x).collect() for x in groups_train]\n",
    "        groups_test = [x[0] for x in df_test.select(\"file_name\").distinct().collect()]\n",
    "        groups_list_test = [df_test.filter(F.col(\"file_name\")==x).collect() for x in groups_test]\n",
    "        \n",
    "        X_train = [spark_rdd_to_tensor(group, \"neural_data\") for group in groups_list_train]\n",
    "        X_test = [spark_rdd_to_tensor(group, \"neural_data\") for group in groups_list_test]\n",
    "        y_train = [spark_rdd_to_tensor(group, \"positional_encoding\") for group in groups_list_train]\n",
    "        y_test = [spark_rdd_to_tensor(group, \"positional_encoding\") for group in groups_list_test]\n",
    "        \n",
    "        logger.debug(\"Performing partial fits\")\n",
    "        losses = []\n",
    "        for X,y in zip(X_train, y_train):\n",
    "            with device:\n",
    "                # Train Embedding\n",
    "                multi_cebra_model.partial_fit(X, y) #Partial fit doesn`t work on multi session data :(\n",
    "                \n",
    "                # Train Decoder\n",
    "                for X_batch, y_batch in DataLoader(Dataset(X,y), batch_size=batch_size, shuffle=False):\n",
    "                    decoder.train()\n",
    "                    decoder_optimizer.zero_grad()\n",
    "                    embedding = torch.Tensor(transform(multi_cebra_model,X_batch))\n",
    "                    predicted_embedding = decoder(embedding)\n",
    "                    loss = criterion(predicted_embedding, y_batch.unsqueeze(1))\n",
    "                    loss.backward()\n",
    "                    decoder_optimizer.step()\n",
    "                    losses.append(loss.item())\n",
    "        writer.add_scalar(f\"AverageDecoderTrainingLoss/{str(it)}\", np.mean(losses), counter)\n",
    "        \n",
    "        test_losses = []\n",
    "        for X,y in zip(X_test, y_test):\n",
    "            with device:\n",
    "                # Test\n",
    "                test_embedding = torch.Tensor(transform(multi_cebra_model, X))\n",
    "                decoder.eval()\n",
    "                pred = decoder(test_embedding)\n",
    "                loss = criterion(pred, y.unsqueeze(1))\n",
    "                test_losses.append(loss.item())\n",
    "        writer.add_scalar(f\"AverageDecoderTestLoss/{str(it)}\", np.mean(test_losses), counter)\n",
    "    multi_cebra_model.save(f\"/main/external/models/embedding_{str(it)}.pt\")\n",
    "    torch.save(decoder, f\"/main/external/models/decoder_{str(it)}.pt\")"
   ]
  }
 ],
 "metadata": {
  "kernelspec": {
   "display_name": "Python 3 (ipykernel)",
   "language": "python",
   "name": "python3"
  },
  "language_info": {
   "name": "",
   "version": ""
  }
 },
 "nbformat": 4,
 "nbformat_minor": 2
}
